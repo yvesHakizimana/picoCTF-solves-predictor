{
 "cells": [
  {
   "cell_type": "code",
   "id": "initial_id",
   "metadata": {
    "collapsed": true,
    "ExecuteTime": {
     "end_time": "2025-03-30T06:54:26.658604Z",
     "start_time": "2025-03-30T06:54:26.186126Z"
    }
   },
   "source": "import pandas as pd",
   "outputs": [],
   "execution_count": 1
  },
  {
   "metadata": {
    "ExecuteTime": {
     "end_time": "2025-03-30T06:54:59.331756Z",
     "start_time": "2025-03-30T06:54:59.324972Z"
    }
   },
   "cell_type": "code",
   "source": "data = pd.read_csv('../data/picoctf_all_challenges_20250330_084049.csv')",
   "id": "33714fdace0831c7",
   "outputs": [],
   "execution_count": 3
  },
  {
   "metadata": {
    "ExecuteTime": {
     "end_time": "2025-03-30T06:55:01.302208Z",
     "start_time": "2025-03-30T06:55:01.290673Z"
    }
   },
   "cell_type": "code",
   "source": "data.head()",
   "id": "a9f6ff28887ddd9a",
   "outputs": [
    {
     "data": {
      "text/plain": [
       "    id        name                  author  difficulty         event  \\\n",
       "0  492       SSTI1                   Venax           1  picoCTF 2025   \n",
       "1  490    PIE TIME            Darkraicg492           1  picoCTF 2025   \n",
       "2  482  n0s4n1ty 1    Prince Niyonshuti N.           1  picoCTF 2025   \n",
       "3  476   head-dump    Prince Niyonshuti N.           1  picoCTF 2025   \n",
       "4  475   hashcrack  Nana Ama Atombo-Sackey           1  picoCTF 2025   \n",
       "\n",
       "              category                       tags  users_solved  event_points  \\\n",
       "0     Web Exploitation  browser_webshell_solvable          5884           100   \n",
       "1  Binary Exploitation  browser_webshell_solvable          3196            75   \n",
       "2     Web Exploitation  browser_webshell_solvable          4340           100   \n",
       "3     Web Exploitation  browser_webshell_solvable          5631            50   \n",
       "4         Cryptography  browser_webshell_solvable          7210           100   \n",
       "\n",
       "   solved_by_user  bookmarked  \n",
       "0            True       False  \n",
       "1           False       False  \n",
       "2            True       False  \n",
       "3            True       False  \n",
       "4           False       False  "
      ],
      "text/html": [
       "<div>\n",
       "<style scoped>\n",
       "    .dataframe tbody tr th:only-of-type {\n",
       "        vertical-align: middle;\n",
       "    }\n",
       "\n",
       "    .dataframe tbody tr th {\n",
       "        vertical-align: top;\n",
       "    }\n",
       "\n",
       "    .dataframe thead th {\n",
       "        text-align: right;\n",
       "    }\n",
       "</style>\n",
       "<table border=\"1\" class=\"dataframe\">\n",
       "  <thead>\n",
       "    <tr style=\"text-align: right;\">\n",
       "      <th></th>\n",
       "      <th>id</th>\n",
       "      <th>name</th>\n",
       "      <th>author</th>\n",
       "      <th>difficulty</th>\n",
       "      <th>event</th>\n",
       "      <th>category</th>\n",
       "      <th>tags</th>\n",
       "      <th>users_solved</th>\n",
       "      <th>event_points</th>\n",
       "      <th>solved_by_user</th>\n",
       "      <th>bookmarked</th>\n",
       "    </tr>\n",
       "  </thead>\n",
       "  <tbody>\n",
       "    <tr>\n",
       "      <th>0</th>\n",
       "      <td>492</td>\n",
       "      <td>SSTI1</td>\n",
       "      <td>Venax</td>\n",
       "      <td>1</td>\n",
       "      <td>picoCTF 2025</td>\n",
       "      <td>Web Exploitation</td>\n",
       "      <td>browser_webshell_solvable</td>\n",
       "      <td>5884</td>\n",
       "      <td>100</td>\n",
       "      <td>True</td>\n",
       "      <td>False</td>\n",
       "    </tr>\n",
       "    <tr>\n",
       "      <th>1</th>\n",
       "      <td>490</td>\n",
       "      <td>PIE TIME</td>\n",
       "      <td>Darkraicg492</td>\n",
       "      <td>1</td>\n",
       "      <td>picoCTF 2025</td>\n",
       "      <td>Binary Exploitation</td>\n",
       "      <td>browser_webshell_solvable</td>\n",
       "      <td>3196</td>\n",
       "      <td>75</td>\n",
       "      <td>False</td>\n",
       "      <td>False</td>\n",
       "    </tr>\n",
       "    <tr>\n",
       "      <th>2</th>\n",
       "      <td>482</td>\n",
       "      <td>n0s4n1ty 1</td>\n",
       "      <td>Prince Niyonshuti N.</td>\n",
       "      <td>1</td>\n",
       "      <td>picoCTF 2025</td>\n",
       "      <td>Web Exploitation</td>\n",
       "      <td>browser_webshell_solvable</td>\n",
       "      <td>4340</td>\n",
       "      <td>100</td>\n",
       "      <td>True</td>\n",
       "      <td>False</td>\n",
       "    </tr>\n",
       "    <tr>\n",
       "      <th>3</th>\n",
       "      <td>476</td>\n",
       "      <td>head-dump</td>\n",
       "      <td>Prince Niyonshuti N.</td>\n",
       "      <td>1</td>\n",
       "      <td>picoCTF 2025</td>\n",
       "      <td>Web Exploitation</td>\n",
       "      <td>browser_webshell_solvable</td>\n",
       "      <td>5631</td>\n",
       "      <td>50</td>\n",
       "      <td>True</td>\n",
       "      <td>False</td>\n",
       "    </tr>\n",
       "    <tr>\n",
       "      <th>4</th>\n",
       "      <td>475</td>\n",
       "      <td>hashcrack</td>\n",
       "      <td>Nana Ama Atombo-Sackey</td>\n",
       "      <td>1</td>\n",
       "      <td>picoCTF 2025</td>\n",
       "      <td>Cryptography</td>\n",
       "      <td>browser_webshell_solvable</td>\n",
       "      <td>7210</td>\n",
       "      <td>100</td>\n",
       "      <td>False</td>\n",
       "      <td>False</td>\n",
       "    </tr>\n",
       "  </tbody>\n",
       "</table>\n",
       "</div>"
      ]
     },
     "execution_count": 4,
     "metadata": {},
     "output_type": "execute_result"
    }
   ],
   "execution_count": 4
  },
  {
   "metadata": {
    "ExecuteTime": {
     "end_time": "2025-03-30T06:55:32.238996Z",
     "start_time": "2025-03-30T06:55:32.232213Z"
    }
   },
   "cell_type": "code",
   "source": "data.columns",
   "id": "1ed69fd731f71f54",
   "outputs": [
    {
     "data": {
      "text/plain": [
       "Index(['id', 'name', 'author', 'difficulty', 'event', 'category', 'tags',\n",
       "       'users_solved', 'event_points', 'solved_by_user', 'bookmarked'],\n",
       "      dtype='object')"
      ]
     },
     "execution_count": 5,
     "metadata": {},
     "output_type": "execute_result"
    }
   ],
   "execution_count": 5
  },
  {
   "metadata": {
    "ExecuteTime": {
     "end_time": "2025-03-30T06:57:03.855039Z",
     "start_time": "2025-03-30T06:57:03.848922Z"
    }
   },
   "cell_type": "code",
   "source": "data.isnull().sum()",
   "id": "77ba97839b27c537",
   "outputs": [
    {
     "data": {
      "text/plain": [
       "id                  0\n",
       "name                0\n",
       "author              0\n",
       "difficulty          0\n",
       "event              19\n",
       "category            0\n",
       "tags              243\n",
       "users_solved        0\n",
       "event_points        0\n",
       "solved_by_user      0\n",
       "bookmarked          0\n",
       "dtype: int64"
      ]
     },
     "execution_count": 6,
     "metadata": {},
     "output_type": "execute_result"
    }
   ],
   "execution_count": 6
  },
  {
   "metadata": {
    "ExecuteTime": {
     "end_time": "2025-03-30T06:57:49.104427Z",
     "start_time": "2025-03-30T06:57:49.095992Z"
    }
   },
   "cell_type": "code",
   "source": "data[data.duplicated()]",
   "id": "88f8fda5921d609f",
   "outputs": [
    {
     "data": {
      "text/plain": [
       "Empty DataFrame\n",
       "Columns: [id, name, author, difficulty, event, category, tags, users_solved, event_points, solved_by_user, bookmarked]\n",
       "Index: []"
      ],
      "text/html": [
       "<div>\n",
       "<style scoped>\n",
       "    .dataframe tbody tr th:only-of-type {\n",
       "        vertical-align: middle;\n",
       "    }\n",
       "\n",
       "    .dataframe tbody tr th {\n",
       "        vertical-align: top;\n",
       "    }\n",
       "\n",
       "    .dataframe thead th {\n",
       "        text-align: right;\n",
       "    }\n",
       "</style>\n",
       "<table border=\"1\" class=\"dataframe\">\n",
       "  <thead>\n",
       "    <tr style=\"text-align: right;\">\n",
       "      <th></th>\n",
       "      <th>id</th>\n",
       "      <th>name</th>\n",
       "      <th>author</th>\n",
       "      <th>difficulty</th>\n",
       "      <th>event</th>\n",
       "      <th>category</th>\n",
       "      <th>tags</th>\n",
       "      <th>users_solved</th>\n",
       "      <th>event_points</th>\n",
       "      <th>solved_by_user</th>\n",
       "      <th>bookmarked</th>\n",
       "    </tr>\n",
       "  </thead>\n",
       "  <tbody>\n",
       "  </tbody>\n",
       "</table>\n",
       "</div>"
      ]
     },
     "execution_count": 8,
     "metadata": {},
     "output_type": "execute_result"
    }
   ],
   "execution_count": 8
  },
  {
   "metadata": {
    "ExecuteTime": {
     "end_time": "2025-03-30T06:58:18.336084Z",
     "start_time": "2025-03-30T06:58:18.325732Z"
    }
   },
   "cell_type": "code",
   "source": [
    "# Dropping rows with null values.\n",
    "data.dropna()"
   ],
   "id": "18c2489e23b7031f",
   "outputs": [
    {
     "data": {
      "text/plain": [
       "      id                name                        author  difficulty  \\\n",
       "0    492               SSTI1                         Venax           1   \n",
       "1    490            PIE TIME                  Darkraicg492           1   \n",
       "2    482          n0s4n1ty 1          Prince Niyonshuti N.           1   \n",
       "3    476           head-dump          Prince Niyonshuti N.           1   \n",
       "4    475           hashcrack        Nana Ama Atombo-Sackey           1   \n",
       "..   ...                 ...                           ...         ...   \n",
       "321  292               ropfu  Sanjay C / LT 'syreal' Jones           3   \n",
       "322  283        NSA Backdoor                 Joshua Inscoe           3   \n",
       "325  276            Keygenme             LT 'syreal' Jones           3   \n",
       "326  272  function overwrite                  Neel Bhavsar           3   \n",
       "327  260   buffer overflow 3       Sanjay C / Palash Oswal           3   \n",
       "\n",
       "            event             category                             tags  \\\n",
       "0    picoCTF 2025     Web Exploitation        browser_webshell_solvable   \n",
       "1    picoCTF 2025  Binary Exploitation        browser_webshell_solvable   \n",
       "2    picoCTF 2025     Web Exploitation        browser_webshell_solvable   \n",
       "3    picoCTF 2025     Web Exploitation        browser_webshell_solvable   \n",
       "4    picoCTF 2025         Cryptography        browser_webshell_solvable   \n",
       "..            ...                  ...                              ...   \n",
       "321  picoCTF 2022  Binary Exploitation                              ROP   \n",
       "322  picoCTF 2022         Cryptography    backdoor, diffie_hellman, rsa   \n",
       "325  picoCTF 2022  Reverse Engineering                   binary, keygen   \n",
       "326  picoCTF 2022  Binary Exploitation  Array_bounds, Function_pointers   \n",
       "327  picoCTF 2022  Binary Exploitation                           canary   \n",
       "\n",
       "     users_solved  event_points  solved_by_user  bookmarked  \n",
       "0            5884           100            True       False  \n",
       "1            3196            75           False       False  \n",
       "2            4340           100            True       False  \n",
       "3            5631            50            True       False  \n",
       "4            7210           100           False       False  \n",
       "..            ...           ...             ...         ...  \n",
       "321          1880           300           False       False  \n",
       "322           651           500           False       False  \n",
       "325          2161           400           False       False  \n",
       "326          1463           400           False       False  \n",
       "327          1880           300           False       False  \n",
       "\n",
       "[159 rows x 11 columns]"
      ],
      "text/html": [
       "<div>\n",
       "<style scoped>\n",
       "    .dataframe tbody tr th:only-of-type {\n",
       "        vertical-align: middle;\n",
       "    }\n",
       "\n",
       "    .dataframe tbody tr th {\n",
       "        vertical-align: top;\n",
       "    }\n",
       "\n",
       "    .dataframe thead th {\n",
       "        text-align: right;\n",
       "    }\n",
       "</style>\n",
       "<table border=\"1\" class=\"dataframe\">\n",
       "  <thead>\n",
       "    <tr style=\"text-align: right;\">\n",
       "      <th></th>\n",
       "      <th>id</th>\n",
       "      <th>name</th>\n",
       "      <th>author</th>\n",
       "      <th>difficulty</th>\n",
       "      <th>event</th>\n",
       "      <th>category</th>\n",
       "      <th>tags</th>\n",
       "      <th>users_solved</th>\n",
       "      <th>event_points</th>\n",
       "      <th>solved_by_user</th>\n",
       "      <th>bookmarked</th>\n",
       "    </tr>\n",
       "  </thead>\n",
       "  <tbody>\n",
       "    <tr>\n",
       "      <th>0</th>\n",
       "      <td>492</td>\n",
       "      <td>SSTI1</td>\n",
       "      <td>Venax</td>\n",
       "      <td>1</td>\n",
       "      <td>picoCTF 2025</td>\n",
       "      <td>Web Exploitation</td>\n",
       "      <td>browser_webshell_solvable</td>\n",
       "      <td>5884</td>\n",
       "      <td>100</td>\n",
       "      <td>True</td>\n",
       "      <td>False</td>\n",
       "    </tr>\n",
       "    <tr>\n",
       "      <th>1</th>\n",
       "      <td>490</td>\n",
       "      <td>PIE TIME</td>\n",
       "      <td>Darkraicg492</td>\n",
       "      <td>1</td>\n",
       "      <td>picoCTF 2025</td>\n",
       "      <td>Binary Exploitation</td>\n",
       "      <td>browser_webshell_solvable</td>\n",
       "      <td>3196</td>\n",
       "      <td>75</td>\n",
       "      <td>False</td>\n",
       "      <td>False</td>\n",
       "    </tr>\n",
       "    <tr>\n",
       "      <th>2</th>\n",
       "      <td>482</td>\n",
       "      <td>n0s4n1ty 1</td>\n",
       "      <td>Prince Niyonshuti N.</td>\n",
       "      <td>1</td>\n",
       "      <td>picoCTF 2025</td>\n",
       "      <td>Web Exploitation</td>\n",
       "      <td>browser_webshell_solvable</td>\n",
       "      <td>4340</td>\n",
       "      <td>100</td>\n",
       "      <td>True</td>\n",
       "      <td>False</td>\n",
       "    </tr>\n",
       "    <tr>\n",
       "      <th>3</th>\n",
       "      <td>476</td>\n",
       "      <td>head-dump</td>\n",
       "      <td>Prince Niyonshuti N.</td>\n",
       "      <td>1</td>\n",
       "      <td>picoCTF 2025</td>\n",
       "      <td>Web Exploitation</td>\n",
       "      <td>browser_webshell_solvable</td>\n",
       "      <td>5631</td>\n",
       "      <td>50</td>\n",
       "      <td>True</td>\n",
       "      <td>False</td>\n",
       "    </tr>\n",
       "    <tr>\n",
       "      <th>4</th>\n",
       "      <td>475</td>\n",
       "      <td>hashcrack</td>\n",
       "      <td>Nana Ama Atombo-Sackey</td>\n",
       "      <td>1</td>\n",
       "      <td>picoCTF 2025</td>\n",
       "      <td>Cryptography</td>\n",
       "      <td>browser_webshell_solvable</td>\n",
       "      <td>7210</td>\n",
       "      <td>100</td>\n",
       "      <td>False</td>\n",
       "      <td>False</td>\n",
       "    </tr>\n",
       "    <tr>\n",
       "      <th>...</th>\n",
       "      <td>...</td>\n",
       "      <td>...</td>\n",
       "      <td>...</td>\n",
       "      <td>...</td>\n",
       "      <td>...</td>\n",
       "      <td>...</td>\n",
       "      <td>...</td>\n",
       "      <td>...</td>\n",
       "      <td>...</td>\n",
       "      <td>...</td>\n",
       "      <td>...</td>\n",
       "    </tr>\n",
       "    <tr>\n",
       "      <th>321</th>\n",
       "      <td>292</td>\n",
       "      <td>ropfu</td>\n",
       "      <td>Sanjay C / LT 'syreal' Jones</td>\n",
       "      <td>3</td>\n",
       "      <td>picoCTF 2022</td>\n",
       "      <td>Binary Exploitation</td>\n",
       "      <td>ROP</td>\n",
       "      <td>1880</td>\n",
       "      <td>300</td>\n",
       "      <td>False</td>\n",
       "      <td>False</td>\n",
       "    </tr>\n",
       "    <tr>\n",
       "      <th>322</th>\n",
       "      <td>283</td>\n",
       "      <td>NSA Backdoor</td>\n",
       "      <td>Joshua Inscoe</td>\n",
       "      <td>3</td>\n",
       "      <td>picoCTF 2022</td>\n",
       "      <td>Cryptography</td>\n",
       "      <td>backdoor, diffie_hellman, rsa</td>\n",
       "      <td>651</td>\n",
       "      <td>500</td>\n",
       "      <td>False</td>\n",
       "      <td>False</td>\n",
       "    </tr>\n",
       "    <tr>\n",
       "      <th>325</th>\n",
       "      <td>276</td>\n",
       "      <td>Keygenme</td>\n",
       "      <td>LT 'syreal' Jones</td>\n",
       "      <td>3</td>\n",
       "      <td>picoCTF 2022</td>\n",
       "      <td>Reverse Engineering</td>\n",
       "      <td>binary, keygen</td>\n",
       "      <td>2161</td>\n",
       "      <td>400</td>\n",
       "      <td>False</td>\n",
       "      <td>False</td>\n",
       "    </tr>\n",
       "    <tr>\n",
       "      <th>326</th>\n",
       "      <td>272</td>\n",
       "      <td>function overwrite</td>\n",
       "      <td>Neel Bhavsar</td>\n",
       "      <td>3</td>\n",
       "      <td>picoCTF 2022</td>\n",
       "      <td>Binary Exploitation</td>\n",
       "      <td>Array_bounds, Function_pointers</td>\n",
       "      <td>1463</td>\n",
       "      <td>400</td>\n",
       "      <td>False</td>\n",
       "      <td>False</td>\n",
       "    </tr>\n",
       "    <tr>\n",
       "      <th>327</th>\n",
       "      <td>260</td>\n",
       "      <td>buffer overflow 3</td>\n",
       "      <td>Sanjay C / Palash Oswal</td>\n",
       "      <td>3</td>\n",
       "      <td>picoCTF 2022</td>\n",
       "      <td>Binary Exploitation</td>\n",
       "      <td>canary</td>\n",
       "      <td>1880</td>\n",
       "      <td>300</td>\n",
       "      <td>False</td>\n",
       "      <td>False</td>\n",
       "    </tr>\n",
       "  </tbody>\n",
       "</table>\n",
       "<p>159 rows × 11 columns</p>\n",
       "</div>"
      ]
     },
     "execution_count": 9,
     "metadata": {},
     "output_type": "execute_result"
    }
   ],
   "execution_count": 9
  },
  {
   "metadata": {
    "ExecuteTime": {
     "end_time": "2025-03-30T06:58:37.384339Z",
     "start_time": "2025-03-30T06:58:37.377154Z"
    }
   },
   "cell_type": "code",
   "source": "data.shape",
   "id": "f845c77b1c323ded",
   "outputs": [
    {
     "data": {
      "text/plain": [
       "(414, 11)"
      ]
     },
     "execution_count": 11,
     "metadata": {},
     "output_type": "execute_result"
    }
   ],
   "execution_count": 11
  },
  {
   "metadata": {
    "ExecuteTime": {
     "end_time": "2025-03-30T06:58:45.160673Z",
     "start_time": "2025-03-30T06:58:45.154667Z"
    }
   },
   "cell_type": "code",
   "source": "data.isnull().sum()",
   "id": "f0cd7435642c7767",
   "outputs": [
    {
     "data": {
      "text/plain": [
       "id                  0\n",
       "name                0\n",
       "author              0\n",
       "difficulty          0\n",
       "event              19\n",
       "category            0\n",
       "tags              243\n",
       "users_solved        0\n",
       "event_points        0\n",
       "solved_by_user      0\n",
       "bookmarked          0\n",
       "dtype: int64"
      ]
     },
     "execution_count": 12,
     "metadata": {},
     "output_type": "execute_result"
    }
   ],
   "execution_count": 12
  },
  {
   "metadata": {
    "ExecuteTime": {
     "end_time": "2025-03-30T06:59:22.431950Z",
     "start_time": "2025-03-30T06:59:22.428041Z"
    }
   },
   "cell_type": "code",
   "source": "data.shape",
   "id": "92ec44fe8c301a6a",
   "outputs": [
    {
     "data": {
      "text/plain": [
       "(414, 11)"
      ]
     },
     "execution_count": 13,
     "metadata": {},
     "output_type": "execute_result"
    }
   ],
   "execution_count": 13
  },
  {
   "metadata": {
    "ExecuteTime": {
     "end_time": "2025-03-30T07:01:40.639726Z",
     "start_time": "2025-03-30T07:01:40.629725Z"
    }
   },
   "cell_type": "code",
   "source": "data.dropna(axis=0)",
   "id": "c0560d25af11e1e",
   "outputs": [
    {
     "data": {
      "text/plain": [
       "      id                name                        author  difficulty  \\\n",
       "0    492               SSTI1                         Venax           1   \n",
       "1    490            PIE TIME                  Darkraicg492           1   \n",
       "2    482          n0s4n1ty 1          Prince Niyonshuti N.           1   \n",
       "3    476           head-dump          Prince Niyonshuti N.           1   \n",
       "4    475           hashcrack        Nana Ama Atombo-Sackey           1   \n",
       "..   ...                 ...                           ...         ...   \n",
       "321  292               ropfu  Sanjay C / LT 'syreal' Jones           3   \n",
       "322  283        NSA Backdoor                 Joshua Inscoe           3   \n",
       "325  276            Keygenme             LT 'syreal' Jones           3   \n",
       "326  272  function overwrite                  Neel Bhavsar           3   \n",
       "327  260   buffer overflow 3       Sanjay C / Palash Oswal           3   \n",
       "\n",
       "            event             category                             tags  \\\n",
       "0    picoCTF 2025     Web Exploitation        browser_webshell_solvable   \n",
       "1    picoCTF 2025  Binary Exploitation        browser_webshell_solvable   \n",
       "2    picoCTF 2025     Web Exploitation        browser_webshell_solvable   \n",
       "3    picoCTF 2025     Web Exploitation        browser_webshell_solvable   \n",
       "4    picoCTF 2025         Cryptography        browser_webshell_solvable   \n",
       "..            ...                  ...                              ...   \n",
       "321  picoCTF 2022  Binary Exploitation                              ROP   \n",
       "322  picoCTF 2022         Cryptography    backdoor, diffie_hellman, rsa   \n",
       "325  picoCTF 2022  Reverse Engineering                   binary, keygen   \n",
       "326  picoCTF 2022  Binary Exploitation  Array_bounds, Function_pointers   \n",
       "327  picoCTF 2022  Binary Exploitation                           canary   \n",
       "\n",
       "     users_solved  event_points  solved_by_user  bookmarked  \n",
       "0            5884           100            True       False  \n",
       "1            3196            75           False       False  \n",
       "2            4340           100            True       False  \n",
       "3            5631            50            True       False  \n",
       "4            7210           100           False       False  \n",
       "..            ...           ...             ...         ...  \n",
       "321          1880           300           False       False  \n",
       "322           651           500           False       False  \n",
       "325          2161           400           False       False  \n",
       "326          1463           400           False       False  \n",
       "327          1880           300           False       False  \n",
       "\n",
       "[159 rows x 11 columns]"
      ],
      "text/html": [
       "<div>\n",
       "<style scoped>\n",
       "    .dataframe tbody tr th:only-of-type {\n",
       "        vertical-align: middle;\n",
       "    }\n",
       "\n",
       "    .dataframe tbody tr th {\n",
       "        vertical-align: top;\n",
       "    }\n",
       "\n",
       "    .dataframe thead th {\n",
       "        text-align: right;\n",
       "    }\n",
       "</style>\n",
       "<table border=\"1\" class=\"dataframe\">\n",
       "  <thead>\n",
       "    <tr style=\"text-align: right;\">\n",
       "      <th></th>\n",
       "      <th>id</th>\n",
       "      <th>name</th>\n",
       "      <th>author</th>\n",
       "      <th>difficulty</th>\n",
       "      <th>event</th>\n",
       "      <th>category</th>\n",
       "      <th>tags</th>\n",
       "      <th>users_solved</th>\n",
       "      <th>event_points</th>\n",
       "      <th>solved_by_user</th>\n",
       "      <th>bookmarked</th>\n",
       "    </tr>\n",
       "  </thead>\n",
       "  <tbody>\n",
       "    <tr>\n",
       "      <th>0</th>\n",
       "      <td>492</td>\n",
       "      <td>SSTI1</td>\n",
       "      <td>Venax</td>\n",
       "      <td>1</td>\n",
       "      <td>picoCTF 2025</td>\n",
       "      <td>Web Exploitation</td>\n",
       "      <td>browser_webshell_solvable</td>\n",
       "      <td>5884</td>\n",
       "      <td>100</td>\n",
       "      <td>True</td>\n",
       "      <td>False</td>\n",
       "    </tr>\n",
       "    <tr>\n",
       "      <th>1</th>\n",
       "      <td>490</td>\n",
       "      <td>PIE TIME</td>\n",
       "      <td>Darkraicg492</td>\n",
       "      <td>1</td>\n",
       "      <td>picoCTF 2025</td>\n",
       "      <td>Binary Exploitation</td>\n",
       "      <td>browser_webshell_solvable</td>\n",
       "      <td>3196</td>\n",
       "      <td>75</td>\n",
       "      <td>False</td>\n",
       "      <td>False</td>\n",
       "    </tr>\n",
       "    <tr>\n",
       "      <th>2</th>\n",
       "      <td>482</td>\n",
       "      <td>n0s4n1ty 1</td>\n",
       "      <td>Prince Niyonshuti N.</td>\n",
       "      <td>1</td>\n",
       "      <td>picoCTF 2025</td>\n",
       "      <td>Web Exploitation</td>\n",
       "      <td>browser_webshell_solvable</td>\n",
       "      <td>4340</td>\n",
       "      <td>100</td>\n",
       "      <td>True</td>\n",
       "      <td>False</td>\n",
       "    </tr>\n",
       "    <tr>\n",
       "      <th>3</th>\n",
       "      <td>476</td>\n",
       "      <td>head-dump</td>\n",
       "      <td>Prince Niyonshuti N.</td>\n",
       "      <td>1</td>\n",
       "      <td>picoCTF 2025</td>\n",
       "      <td>Web Exploitation</td>\n",
       "      <td>browser_webshell_solvable</td>\n",
       "      <td>5631</td>\n",
       "      <td>50</td>\n",
       "      <td>True</td>\n",
       "      <td>False</td>\n",
       "    </tr>\n",
       "    <tr>\n",
       "      <th>4</th>\n",
       "      <td>475</td>\n",
       "      <td>hashcrack</td>\n",
       "      <td>Nana Ama Atombo-Sackey</td>\n",
       "      <td>1</td>\n",
       "      <td>picoCTF 2025</td>\n",
       "      <td>Cryptography</td>\n",
       "      <td>browser_webshell_solvable</td>\n",
       "      <td>7210</td>\n",
       "      <td>100</td>\n",
       "      <td>False</td>\n",
       "      <td>False</td>\n",
       "    </tr>\n",
       "    <tr>\n",
       "      <th>...</th>\n",
       "      <td>...</td>\n",
       "      <td>...</td>\n",
       "      <td>...</td>\n",
       "      <td>...</td>\n",
       "      <td>...</td>\n",
       "      <td>...</td>\n",
       "      <td>...</td>\n",
       "      <td>...</td>\n",
       "      <td>...</td>\n",
       "      <td>...</td>\n",
       "      <td>...</td>\n",
       "    </tr>\n",
       "    <tr>\n",
       "      <th>321</th>\n",
       "      <td>292</td>\n",
       "      <td>ropfu</td>\n",
       "      <td>Sanjay C / LT 'syreal' Jones</td>\n",
       "      <td>3</td>\n",
       "      <td>picoCTF 2022</td>\n",
       "      <td>Binary Exploitation</td>\n",
       "      <td>ROP</td>\n",
       "      <td>1880</td>\n",
       "      <td>300</td>\n",
       "      <td>False</td>\n",
       "      <td>False</td>\n",
       "    </tr>\n",
       "    <tr>\n",
       "      <th>322</th>\n",
       "      <td>283</td>\n",
       "      <td>NSA Backdoor</td>\n",
       "      <td>Joshua Inscoe</td>\n",
       "      <td>3</td>\n",
       "      <td>picoCTF 2022</td>\n",
       "      <td>Cryptography</td>\n",
       "      <td>backdoor, diffie_hellman, rsa</td>\n",
       "      <td>651</td>\n",
       "      <td>500</td>\n",
       "      <td>False</td>\n",
       "      <td>False</td>\n",
       "    </tr>\n",
       "    <tr>\n",
       "      <th>325</th>\n",
       "      <td>276</td>\n",
       "      <td>Keygenme</td>\n",
       "      <td>LT 'syreal' Jones</td>\n",
       "      <td>3</td>\n",
       "      <td>picoCTF 2022</td>\n",
       "      <td>Reverse Engineering</td>\n",
       "      <td>binary, keygen</td>\n",
       "      <td>2161</td>\n",
       "      <td>400</td>\n",
       "      <td>False</td>\n",
       "      <td>False</td>\n",
       "    </tr>\n",
       "    <tr>\n",
       "      <th>326</th>\n",
       "      <td>272</td>\n",
       "      <td>function overwrite</td>\n",
       "      <td>Neel Bhavsar</td>\n",
       "      <td>3</td>\n",
       "      <td>picoCTF 2022</td>\n",
       "      <td>Binary Exploitation</td>\n",
       "      <td>Array_bounds, Function_pointers</td>\n",
       "      <td>1463</td>\n",
       "      <td>400</td>\n",
       "      <td>False</td>\n",
       "      <td>False</td>\n",
       "    </tr>\n",
       "    <tr>\n",
       "      <th>327</th>\n",
       "      <td>260</td>\n",
       "      <td>buffer overflow 3</td>\n",
       "      <td>Sanjay C / Palash Oswal</td>\n",
       "      <td>3</td>\n",
       "      <td>picoCTF 2022</td>\n",
       "      <td>Binary Exploitation</td>\n",
       "      <td>canary</td>\n",
       "      <td>1880</td>\n",
       "      <td>300</td>\n",
       "      <td>False</td>\n",
       "      <td>False</td>\n",
       "    </tr>\n",
       "  </tbody>\n",
       "</table>\n",
       "<p>159 rows × 11 columns</p>\n",
       "</div>"
      ]
     },
     "execution_count": 14,
     "metadata": {},
     "output_type": "execute_result"
    }
   ],
   "execution_count": 14
  },
  {
   "metadata": {
    "ExecuteTime": {
     "end_time": "2025-03-30T07:01:47.209203Z",
     "start_time": "2025-03-30T07:01:47.204420Z"
    }
   },
   "cell_type": "code",
   "source": "data.shape",
   "id": "cc1c0efb736a32be",
   "outputs": [
    {
     "data": {
      "text/plain": [
       "(414, 11)"
      ]
     },
     "execution_count": 15,
     "metadata": {},
     "output_type": "execute_result"
    }
   ],
   "execution_count": 15
  },
  {
   "metadata": {
    "ExecuteTime": {
     "end_time": "2025-03-30T07:01:55.472698Z",
     "start_time": "2025-03-30T07:01:55.466687Z"
    }
   },
   "cell_type": "code",
   "source": "data.isnull().sum()",
   "id": "15171436e28727b3",
   "outputs": [
    {
     "data": {
      "text/plain": [
       "id                  0\n",
       "name                0\n",
       "author              0\n",
       "difficulty          0\n",
       "event              19\n",
       "category            0\n",
       "tags              243\n",
       "users_solved        0\n",
       "event_points        0\n",
       "solved_by_user      0\n",
       "bookmarked          0\n",
       "dtype: int64"
      ]
     },
     "execution_count": 16,
     "metadata": {},
     "output_type": "execute_result"
    }
   ],
   "execution_count": 16
  },
  {
   "metadata": {
    "ExecuteTime": {
     "end_time": "2025-03-30T07:05:06.171135Z",
     "start_time": "2025-03-30T07:05:06.162441Z"
    }
   },
   "cell_type": "code",
   "source": [
    "# Drop and remove some columns from dataset -> Removed the event and tags column due to having empty values.\n",
    "data.drop(['event', 'tags'], axis=1, inplace=True)"
   ],
   "id": "a1fb699b56e097fa",
   "outputs": [],
   "execution_count": 17
  },
  {
   "metadata": {
    "ExecuteTime": {
     "end_time": "2025-03-30T07:05:10.475012Z",
     "start_time": "2025-03-30T07:05:10.463940Z"
    }
   },
   "cell_type": "code",
   "source": "data.shape",
   "id": "d581938186338150",
   "outputs": [
    {
     "data": {
      "text/plain": [
       "(414, 9)"
      ]
     },
     "execution_count": 18,
     "metadata": {},
     "output_type": "execute_result"
    }
   ],
   "execution_count": 18
  },
  {
   "metadata": {
    "ExecuteTime": {
     "end_time": "2025-03-30T07:05:21.256173Z",
     "start_time": "2025-03-30T07:05:21.244395Z"
    }
   },
   "cell_type": "code",
   "source": "data.isnull().sum()",
   "id": "7ca54a1077288f53",
   "outputs": [
    {
     "data": {
      "text/plain": [
       "id                0\n",
       "name              0\n",
       "author            0\n",
       "difficulty        0\n",
       "category          0\n",
       "users_solved      0\n",
       "event_points      0\n",
       "solved_by_user    0\n",
       "bookmarked        0\n",
       "dtype: int64"
      ]
     },
     "execution_count": 19,
     "metadata": {},
     "output_type": "execute_result"
    }
   ],
   "execution_count": 19
  },
  {
   "metadata": {
    "ExecuteTime": {
     "end_time": "2025-03-30T07:06:44.943251Z",
     "start_time": "2025-03-30T07:06:44.935557Z"
    }
   },
   "cell_type": "code",
   "source": [
    "## Feature engineering.\n",
    "# Drop the columns on solved_by_user\n",
    "data.drop(['solved_by_user', 'bookmarked'], axis=1, inplace=True)"
   ],
   "id": "5d858807ac9b5d14",
   "outputs": [],
   "execution_count": 20
  },
  {
   "metadata": {
    "ExecuteTime": {
     "end_time": "2025-03-30T07:06:54.842557Z",
     "start_time": "2025-03-30T07:06:54.833857Z"
    }
   },
   "cell_type": "code",
   "source": "data.shape",
   "id": "3cacfcf17ea6230d",
   "outputs": [
    {
     "data": {
      "text/plain": [
       "(414, 7)"
      ]
     },
     "execution_count": 21,
     "metadata": {},
     "output_type": "execute_result"
    }
   ],
   "execution_count": 21
  },
  {
   "metadata": {
    "ExecuteTime": {
     "end_time": "2025-03-30T07:07:02.396652Z",
     "start_time": "2025-03-30T07:07:02.380465Z"
    }
   },
   "cell_type": "code",
   "source": "data.info",
   "id": "78c580973ea8b82a",
   "outputs": [
    {
     "data": {
      "text/plain": [
       "<bound method DataFrame.info of       id                       name                  author  difficulty  \\\n",
       "0    492                      SSTI1                   Venax           1   \n",
       "1    490                   PIE TIME            Darkraicg492           1   \n",
       "2    482                 n0s4n1ty 1    Prince Niyonshuti N.           1   \n",
       "3    476                  head-dump    Prince Niyonshuti N.           1   \n",
       "4    475                  hashcrack  Nana Ama Atombo-Sackey           1   \n",
       "..   ...                        ...                     ...         ...   \n",
       "409   13  Investigative Reversing 2      Santiago C/Danny T           3   \n",
       "410   11                    droids0                   Jason           3   \n",
       "411   10               vault-door-8           Mark E. Haase           3   \n",
       "412    5                       asm4                Sanjay C           3   \n",
       "413    2                b00tl3gRSA2            invisibility           3   \n",
       "\n",
       "                category  users_solved  event_points  \n",
       "0       Web Exploitation          5884           100  \n",
       "1    Binary Exploitation          3196            75  \n",
       "2       Web Exploitation          4340           100  \n",
       "3       Web Exploitation          5631            50  \n",
       "4           Cryptography          7210           100  \n",
       "..                   ...           ...           ...  \n",
       "409            Forensics           670           350  \n",
       "410  Reverse Engineering          2472           300  \n",
       "411  Reverse Engineering          2785           450  \n",
       "412  Reverse Engineering           815           400  \n",
       "413         Cryptography          2876           400  \n",
       "\n",
       "[414 rows x 7 columns]>"
      ]
     },
     "execution_count": 22,
     "metadata": {},
     "output_type": "execute_result"
    }
   ],
   "execution_count": 22
  },
  {
   "metadata": {
    "ExecuteTime": {
     "end_time": "2025-03-30T07:07:06.712727Z",
     "start_time": "2025-03-30T07:07:06.696636Z"
    }
   },
   "cell_type": "code",
   "source": "data.info()",
   "id": "22e731e7deedf75b",
   "outputs": [
    {
     "name": "stdout",
     "output_type": "stream",
     "text": [
      "<class 'pandas.core.frame.DataFrame'>\n",
      "RangeIndex: 414 entries, 0 to 413\n",
      "Data columns (total 7 columns):\n",
      " #   Column        Non-Null Count  Dtype \n",
      "---  ------        --------------  ----- \n",
      " 0   id            414 non-null    int64 \n",
      " 1   name          414 non-null    object\n",
      " 2   author        414 non-null    object\n",
      " 3   difficulty    414 non-null    int64 \n",
      " 4   category      414 non-null    object\n",
      " 5   users_solved  414 non-null    int64 \n",
      " 6   event_points  414 non-null    int64 \n",
      "dtypes: int64(4), object(3)\n",
      "memory usage: 22.8+ KB\n"
     ]
    }
   ],
   "execution_count": 23
  },
  {
   "metadata": {
    "ExecuteTime": {
     "end_time": "2025-03-30T07:08:11.728268Z",
     "start_time": "2025-03-30T07:08:11.714951Z"
    }
   },
   "cell_type": "code",
   "source": [
    "# Showing unique values across  category\n",
    "data['category'].value_counts()"
   ],
   "id": "9c7baec1398d8bf9",
   "outputs": [
    {
     "data": {
      "text/plain": [
       "category\n",
       "Reverse Engineering    90\n",
       "Forensics              70\n",
       "Web Exploitation       69\n",
       "Cryptography           68\n",
       "Binary Exploitation    61\n",
       "General Skills         56\n",
       "Name: count, dtype: int64"
      ]
     },
     "execution_count": 24,
     "metadata": {},
     "output_type": "execute_result"
    }
   ],
   "execution_count": 24
  },
  {
   "metadata": {
    "ExecuteTime": {
     "end_time": "2025-03-30T07:08:53.102324Z",
     "start_time": "2025-03-30T07:08:53.088415Z"
    }
   },
   "cell_type": "code",
   "source": [
    "# Showing unique values across  category\n",
    "data['author'].value_counts()"
   ],
   "id": "6b4ab9baefbc1152",
   "outputs": [
    {
     "data": {
      "text/plain": [
       "author\n",
       "LT 'syreal' Jones    57\n",
       "madStacks            30\n",
       "syreal               20\n",
       "Mubarak Mikail       17\n",
       "Danny                13\n",
       "                     ..\n",
       "William Batista       1\n",
       "wparks/nmontierth     1\n",
       "speeeday/Danny        1\n",
       "Claude                1\n",
       "Alexander Bushkin     1\n",
       "Name: count, Length: 118, dtype: int64"
      ]
     },
     "execution_count": 25,
     "metadata": {},
     "output_type": "execute_result"
    }
   ],
   "execution_count": 25
  },
  {
   "metadata": {
    "ExecuteTime": {
     "end_time": "2025-03-30T07:21:39.634080Z",
     "start_time": "2025-03-30T07:21:39.618835Z"
    }
   },
   "cell_type": "code",
   "source": "data[data['author'].str.contains('notDeGhost', case=False, na=False)]",
   "id": "ffa39a73306252b8",
   "outputs": [
    {
     "data": {
      "text/plain": [
       "Empty DataFrame\n",
       "Columns: [id, name, author, difficulty, category, users_solved, event_points]\n",
       "Index: []"
      ],
      "text/html": [
       "<div>\n",
       "<style scoped>\n",
       "    .dataframe tbody tr th:only-of-type {\n",
       "        vertical-align: middle;\n",
       "    }\n",
       "\n",
       "    .dataframe tbody tr th {\n",
       "        vertical-align: top;\n",
       "    }\n",
       "\n",
       "    .dataframe thead th {\n",
       "        text-align: right;\n",
       "    }\n",
       "</style>\n",
       "<table border=\"1\" class=\"dataframe\">\n",
       "  <thead>\n",
       "    <tr style=\"text-align: right;\">\n",
       "      <th></th>\n",
       "      <th>id</th>\n",
       "      <th>name</th>\n",
       "      <th>author</th>\n",
       "      <th>difficulty</th>\n",
       "      <th>category</th>\n",
       "      <th>users_solved</th>\n",
       "      <th>event_points</th>\n",
       "    </tr>\n",
       "  </thead>\n",
       "  <tbody>\n",
       "  </tbody>\n",
       "</table>\n",
       "</div>"
      ]
     },
     "execution_count": 37,
     "metadata": {},
     "output_type": "execute_result"
    }
   ],
   "execution_count": 37
  },
  {
   "metadata": {
    "ExecuteTime": {
     "end_time": "2025-03-30T07:23:49.983701Z",
     "start_time": "2025-03-30T07:23:49.975129Z"
    }
   },
   "cell_type": "code",
   "source": "data[data['category'] == 'Cryptography'][data['event_points'] == 500]",
   "id": "3db2d6a4316c4a0",
   "outputs": [
    {
     "name": "stderr",
     "output_type": "stream",
     "text": [
      "/tmp/ipykernel_76452/212667871.py:1: UserWarning: Boolean Series key will be reindexed to match DataFrame index.\n",
      "  data[data['category'] == 'Cryptography'][data['event_points'] == 500]\n"
     ]
    },
    {
     "data": {
      "text/plain": [
       "      id                   name          author  difficulty      category  \\\n",
       "289    6           john_pollard        Samuel S           2  Cryptography   \n",
       "292  495               Ricochet       asinghani           3  Cryptography   \n",
       "299  417           flag_printer        ehhthing           3  Cryptography   \n",
       "305  365  PowerAnalysis: Part 2  Anish Singhani           3  Cryptography   \n",
       "322  283           NSA Backdoor   Joshua Inscoe           3  Cryptography   \n",
       "338  211          corrupt-key-2             Tux           3  Cryptography   \n",
       "365  136                 Clouds       madStacks           3  Cryptography   \n",
       "\n",
       "     users_solved  event_points  \n",
       "289          5839           500  \n",
       "292            58           500  \n",
       "299           181           500  \n",
       "305           301           500  \n",
       "322           651           500  \n",
       "338            41           500  \n",
       "365            74           500  "
      ],
      "text/html": [
       "<div>\n",
       "<style scoped>\n",
       "    .dataframe tbody tr th:only-of-type {\n",
       "        vertical-align: middle;\n",
       "    }\n",
       "\n",
       "    .dataframe tbody tr th {\n",
       "        vertical-align: top;\n",
       "    }\n",
       "\n",
       "    .dataframe thead th {\n",
       "        text-align: right;\n",
       "    }\n",
       "</style>\n",
       "<table border=\"1\" class=\"dataframe\">\n",
       "  <thead>\n",
       "    <tr style=\"text-align: right;\">\n",
       "      <th></th>\n",
       "      <th>id</th>\n",
       "      <th>name</th>\n",
       "      <th>author</th>\n",
       "      <th>difficulty</th>\n",
       "      <th>category</th>\n",
       "      <th>users_solved</th>\n",
       "      <th>event_points</th>\n",
       "    </tr>\n",
       "  </thead>\n",
       "  <tbody>\n",
       "    <tr>\n",
       "      <th>289</th>\n",
       "      <td>6</td>\n",
       "      <td>john_pollard</td>\n",
       "      <td>Samuel S</td>\n",
       "      <td>2</td>\n",
       "      <td>Cryptography</td>\n",
       "      <td>5839</td>\n",
       "      <td>500</td>\n",
       "    </tr>\n",
       "    <tr>\n",
       "      <th>292</th>\n",
       "      <td>495</td>\n",
       "      <td>Ricochet</td>\n",
       "      <td>asinghani</td>\n",
       "      <td>3</td>\n",
       "      <td>Cryptography</td>\n",
       "      <td>58</td>\n",
       "      <td>500</td>\n",
       "    </tr>\n",
       "    <tr>\n",
       "      <th>299</th>\n",
       "      <td>417</td>\n",
       "      <td>flag_printer</td>\n",
       "      <td>ehhthing</td>\n",
       "      <td>3</td>\n",
       "      <td>Cryptography</td>\n",
       "      <td>181</td>\n",
       "      <td>500</td>\n",
       "    </tr>\n",
       "    <tr>\n",
       "      <th>305</th>\n",
       "      <td>365</td>\n",
       "      <td>PowerAnalysis: Part 2</td>\n",
       "      <td>Anish Singhani</td>\n",
       "      <td>3</td>\n",
       "      <td>Cryptography</td>\n",
       "      <td>301</td>\n",
       "      <td>500</td>\n",
       "    </tr>\n",
       "    <tr>\n",
       "      <th>322</th>\n",
       "      <td>283</td>\n",
       "      <td>NSA Backdoor</td>\n",
       "      <td>Joshua Inscoe</td>\n",
       "      <td>3</td>\n",
       "      <td>Cryptography</td>\n",
       "      <td>651</td>\n",
       "      <td>500</td>\n",
       "    </tr>\n",
       "    <tr>\n",
       "      <th>338</th>\n",
       "      <td>211</td>\n",
       "      <td>corrupt-key-2</td>\n",
       "      <td>Tux</td>\n",
       "      <td>3</td>\n",
       "      <td>Cryptography</td>\n",
       "      <td>41</td>\n",
       "      <td>500</td>\n",
       "    </tr>\n",
       "    <tr>\n",
       "      <th>365</th>\n",
       "      <td>136</td>\n",
       "      <td>Clouds</td>\n",
       "      <td>madStacks</td>\n",
       "      <td>3</td>\n",
       "      <td>Cryptography</td>\n",
       "      <td>74</td>\n",
       "      <td>500</td>\n",
       "    </tr>\n",
       "  </tbody>\n",
       "</table>\n",
       "</div>"
      ]
     },
     "execution_count": 41,
     "metadata": {},
     "output_type": "execute_result"
    }
   ],
   "execution_count": 41
  },
  {
   "metadata": {
    "ExecuteTime": {
     "end_time": "2025-03-30T07:27:58.092511Z",
     "start_time": "2025-03-30T07:27:58.087977Z"
    }
   },
   "cell_type": "code",
   "source": "data.author.count()",
   "id": "bf166630187f227",
   "outputs": [
    {
     "data": {
      "text/plain": [
       "np.int64(414)"
      ]
     },
     "execution_count": 43,
     "metadata": {},
     "output_type": "execute_result"
    }
   ],
   "execution_count": 43
  },
  {
   "metadata": {
    "ExecuteTime": {
     "end_time": "2025-03-30T07:28:08.334478Z",
     "start_time": "2025-03-30T07:28:08.331591Z"
    }
   },
   "cell_type": "code",
   "source": "authors = data.author",
   "id": "a0143354be3d411c",
   "outputs": [],
   "execution_count": 44
  },
  {
   "metadata": {
    "ExecuteTime": {
     "end_time": "2025-03-30T07:28:12.891692Z",
     "start_time": "2025-03-30T07:28:12.885020Z"
    }
   },
   "cell_type": "code",
   "source": "authors",
   "id": "7d5b5b0d5325e9ba",
   "outputs": [
    {
     "data": {
      "text/plain": [
       "0                       Venax\n",
       "1                Darkraicg492\n",
       "2        Prince Niyonshuti N.\n",
       "3        Prince Niyonshuti N.\n",
       "4      Nana Ama Atombo-Sackey\n",
       "                ...          \n",
       "409        Santiago C/Danny T\n",
       "410                     Jason\n",
       "411             Mark E. Haase\n",
       "412                  Sanjay C\n",
       "413              invisibility\n",
       "Name: author, Length: 414, dtype: object"
      ]
     },
     "execution_count": 45,
     "metadata": {},
     "output_type": "execute_result"
    }
   ],
   "execution_count": 45
  },
  {
   "metadata": {
    "ExecuteTime": {
     "end_time": "2025-03-30T07:43:14.656857Z",
     "start_time": "2025-03-30T07:43:14.647658Z"
    }
   },
   "cell_type": "code",
   "source": [
    "# Preprocess author names.\n",
    "def clean_author_name(name):\n",
    "    name = name.lower()\n",
    "    if name == \"lt 'syreal' jones\":\n",
    "        return \"syreal\"\n",
    "    elif name == \"anish singhani\":\n",
    "        return \"asinghani\"\n",
    "    return name\n",
    "\n",
    "data.author = data['author'].apply(clean_author_name)"
   ],
   "id": "2e2569be8243f72f",
   "outputs": [],
   "execution_count": 56
  },
  {
   "metadata": {
    "ExecuteTime": {
     "end_time": "2025-03-30T07:43:16.011594Z",
     "start_time": "2025-03-30T07:43:16.003954Z"
    }
   },
   "cell_type": "code",
   "source": "data.author",
   "id": "c72e8042ecaef6a6",
   "outputs": [
    {
     "data": {
      "text/plain": [
       "0                       venax\n",
       "1                darkraicg492\n",
       "2        prince niyonshuti n.\n",
       "3        prince niyonshuti n.\n",
       "4      nana ama atombo-sackey\n",
       "                ...          \n",
       "409        santiago c/danny t\n",
       "410                     jason\n",
       "411             mark e. haase\n",
       "412                  sanjay c\n",
       "413              invisibility\n",
       "Name: author, Length: 414, dtype: object"
      ]
     },
     "execution_count": 57,
     "metadata": {},
     "output_type": "execute_result"
    }
   ],
   "execution_count": 57
  },
  {
   "metadata": {
    "ExecuteTime": {
     "end_time": "2025-03-30T07:44:03.805303Z",
     "start_time": "2025-03-30T07:44:03.795542Z"
    }
   },
   "cell_type": "code",
   "source": "data[data.author == 'notdeghost']",
   "id": "85cb8b3f5e54375a",
   "outputs": [
    {
     "data": {
      "text/plain": [
       "      id                name      author  difficulty             category  \\\n",
       "76   494            Pachinko  notdeghost           2     Web Exploitation   \n",
       "218  216    clutter-overflow  notdeghost           2  Binary Exploitation   \n",
       "295  478  Pachinko Revisited  notdeghost           3     Web Exploitation   \n",
       "312  344           cancri-sp  notdeghost           3     Web Exploitation   \n",
       "318  302             solfire  notdeghost           3  Binary Exploitation   \n",
       "332  218           vr-school  notdeghost           3  Binary Exploitation   \n",
       "334  215      fermat-strings  notdeghost           3  Binary Exploitation   \n",
       "336  213                SaaS  notdeghost           3  Binary Exploitation   \n",
       "\n",
       "     users_solved  event_points  \n",
       "76           1795           300  \n",
       "218          4177           150  \n",
       "295            21           500  \n",
       "312            29           500  \n",
       "318            17           500  \n",
       "332           121           500  \n",
       "334           538           250  \n",
       "336           300           350  "
      ],
      "text/html": [
       "<div>\n",
       "<style scoped>\n",
       "    .dataframe tbody tr th:only-of-type {\n",
       "        vertical-align: middle;\n",
       "    }\n",
       "\n",
       "    .dataframe tbody tr th {\n",
       "        vertical-align: top;\n",
       "    }\n",
       "\n",
       "    .dataframe thead th {\n",
       "        text-align: right;\n",
       "    }\n",
       "</style>\n",
       "<table border=\"1\" class=\"dataframe\">\n",
       "  <thead>\n",
       "    <tr style=\"text-align: right;\">\n",
       "      <th></th>\n",
       "      <th>id</th>\n",
       "      <th>name</th>\n",
       "      <th>author</th>\n",
       "      <th>difficulty</th>\n",
       "      <th>category</th>\n",
       "      <th>users_solved</th>\n",
       "      <th>event_points</th>\n",
       "    </tr>\n",
       "  </thead>\n",
       "  <tbody>\n",
       "    <tr>\n",
       "      <th>76</th>\n",
       "      <td>494</td>\n",
       "      <td>Pachinko</td>\n",
       "      <td>notdeghost</td>\n",
       "      <td>2</td>\n",
       "      <td>Web Exploitation</td>\n",
       "      <td>1795</td>\n",
       "      <td>300</td>\n",
       "    </tr>\n",
       "    <tr>\n",
       "      <th>218</th>\n",
       "      <td>216</td>\n",
       "      <td>clutter-overflow</td>\n",
       "      <td>notdeghost</td>\n",
       "      <td>2</td>\n",
       "      <td>Binary Exploitation</td>\n",
       "      <td>4177</td>\n",
       "      <td>150</td>\n",
       "    </tr>\n",
       "    <tr>\n",
       "      <th>295</th>\n",
       "      <td>478</td>\n",
       "      <td>Pachinko Revisited</td>\n",
       "      <td>notdeghost</td>\n",
       "      <td>3</td>\n",
       "      <td>Web Exploitation</td>\n",
       "      <td>21</td>\n",
       "      <td>500</td>\n",
       "    </tr>\n",
       "    <tr>\n",
       "      <th>312</th>\n",
       "      <td>344</td>\n",
       "      <td>cancri-sp</td>\n",
       "      <td>notdeghost</td>\n",
       "      <td>3</td>\n",
       "      <td>Web Exploitation</td>\n",
       "      <td>29</td>\n",
       "      <td>500</td>\n",
       "    </tr>\n",
       "    <tr>\n",
       "      <th>318</th>\n",
       "      <td>302</td>\n",
       "      <td>solfire</td>\n",
       "      <td>notdeghost</td>\n",
       "      <td>3</td>\n",
       "      <td>Binary Exploitation</td>\n",
       "      <td>17</td>\n",
       "      <td>500</td>\n",
       "    </tr>\n",
       "    <tr>\n",
       "      <th>332</th>\n",
       "      <td>218</td>\n",
       "      <td>vr-school</td>\n",
       "      <td>notdeghost</td>\n",
       "      <td>3</td>\n",
       "      <td>Binary Exploitation</td>\n",
       "      <td>121</td>\n",
       "      <td>500</td>\n",
       "    </tr>\n",
       "    <tr>\n",
       "      <th>334</th>\n",
       "      <td>215</td>\n",
       "      <td>fermat-strings</td>\n",
       "      <td>notdeghost</td>\n",
       "      <td>3</td>\n",
       "      <td>Binary Exploitation</td>\n",
       "      <td>538</td>\n",
       "      <td>250</td>\n",
       "    </tr>\n",
       "    <tr>\n",
       "      <th>336</th>\n",
       "      <td>213</td>\n",
       "      <td>SaaS</td>\n",
       "      <td>notdeghost</td>\n",
       "      <td>3</td>\n",
       "      <td>Binary Exploitation</td>\n",
       "      <td>300</td>\n",
       "      <td>350</td>\n",
       "    </tr>\n",
       "  </tbody>\n",
       "</table>\n",
       "</div>"
      ]
     },
     "execution_count": 59,
     "metadata": {},
     "output_type": "execute_result"
    }
   ],
   "execution_count": 59
  },
  {
   "metadata": {
    "ExecuteTime": {
     "end_time": "2025-03-30T07:53:42.913455Z",
     "start_time": "2025-03-30T07:53:42.906824Z"
    }
   },
   "cell_type": "code",
   "source": [
    "# Drop the name across all due to we don't need it.\n",
    "data.drop(['id'], axis=1, inplace=True)"
   ],
   "id": "96b6e19873f21a3d",
   "outputs": [],
   "execution_count": 62
  },
  {
   "metadata": {
    "ExecuteTime": {
     "end_time": "2025-03-30T07:53:47.728134Z",
     "start_time": "2025-03-30T07:53:47.716544Z"
    }
   },
   "cell_type": "code",
   "source": "data.columns",
   "id": "11d18816141baee1",
   "outputs": [
    {
     "data": {
      "text/plain": [
       "Index(['author', 'difficulty', 'category', 'users_solved', 'event_points'], dtype='object')"
      ]
     },
     "execution_count": 63,
     "metadata": {},
     "output_type": "execute_result"
    }
   ],
   "execution_count": 63
  },
  {
   "metadata": {
    "ExecuteTime": {
     "end_time": "2025-03-30T08:24:08.205685Z",
     "start_time": "2025-03-30T08:24:08.178513Z"
    }
   },
   "cell_type": "code",
   "source": "data.head(10)",
   "id": "5576bb61c172c63",
   "outputs": [
    {
     "data": {
      "text/plain": [
       "                                  author  difficulty             category  \\\n",
       "0                                  venax           1     Web Exploitation   \n",
       "1                           darkraicg492           1  Binary Exploitation   \n",
       "2                   prince niyonshuti n.           1     Web Exploitation   \n",
       "3                   prince niyonshuti n.           1     Web Exploitation   \n",
       "4                 nana ama atombo-sackey           1         Cryptography   \n",
       "5                                 syreal           1  Reverse Engineering   \n",
       "6                                 syreal           1       General Skills   \n",
       "7                         michael crotty           1         Cryptography   \n",
       "8  brhane giday and prince niyonshuti n.           1     Web Exploitation   \n",
       "9                      taylor mccampbell           1       General Skills   \n",
       "\n",
       "   users_solved  event_points  \n",
       "0          5884           100  \n",
       "1          3196            75  \n",
       "2          4340           100  \n",
       "3          5631            50  \n",
       "4          7210           100  \n",
       "5          3695            75  \n",
       "6          9959            10  \n",
       "7          3930           200  \n",
       "8          8151            50  \n",
       "9          3334           100  "
      ],
      "text/html": [
       "<div>\n",
       "<style scoped>\n",
       "    .dataframe tbody tr th:only-of-type {\n",
       "        vertical-align: middle;\n",
       "    }\n",
       "\n",
       "    .dataframe tbody tr th {\n",
       "        vertical-align: top;\n",
       "    }\n",
       "\n",
       "    .dataframe thead th {\n",
       "        text-align: right;\n",
       "    }\n",
       "</style>\n",
       "<table border=\"1\" class=\"dataframe\">\n",
       "  <thead>\n",
       "    <tr style=\"text-align: right;\">\n",
       "      <th></th>\n",
       "      <th>author</th>\n",
       "      <th>difficulty</th>\n",
       "      <th>category</th>\n",
       "      <th>users_solved</th>\n",
       "      <th>event_points</th>\n",
       "    </tr>\n",
       "  </thead>\n",
       "  <tbody>\n",
       "    <tr>\n",
       "      <th>0</th>\n",
       "      <td>venax</td>\n",
       "      <td>1</td>\n",
       "      <td>Web Exploitation</td>\n",
       "      <td>5884</td>\n",
       "      <td>100</td>\n",
       "    </tr>\n",
       "    <tr>\n",
       "      <th>1</th>\n",
       "      <td>darkraicg492</td>\n",
       "      <td>1</td>\n",
       "      <td>Binary Exploitation</td>\n",
       "      <td>3196</td>\n",
       "      <td>75</td>\n",
       "    </tr>\n",
       "    <tr>\n",
       "      <th>2</th>\n",
       "      <td>prince niyonshuti n.</td>\n",
       "      <td>1</td>\n",
       "      <td>Web Exploitation</td>\n",
       "      <td>4340</td>\n",
       "      <td>100</td>\n",
       "    </tr>\n",
       "    <tr>\n",
       "      <th>3</th>\n",
       "      <td>prince niyonshuti n.</td>\n",
       "      <td>1</td>\n",
       "      <td>Web Exploitation</td>\n",
       "      <td>5631</td>\n",
       "      <td>50</td>\n",
       "    </tr>\n",
       "    <tr>\n",
       "      <th>4</th>\n",
       "      <td>nana ama atombo-sackey</td>\n",
       "      <td>1</td>\n",
       "      <td>Cryptography</td>\n",
       "      <td>7210</td>\n",
       "      <td>100</td>\n",
       "    </tr>\n",
       "    <tr>\n",
       "      <th>5</th>\n",
       "      <td>syreal</td>\n",
       "      <td>1</td>\n",
       "      <td>Reverse Engineering</td>\n",
       "      <td>3695</td>\n",
       "      <td>75</td>\n",
       "    </tr>\n",
       "    <tr>\n",
       "      <th>6</th>\n",
       "      <td>syreal</td>\n",
       "      <td>1</td>\n",
       "      <td>General Skills</td>\n",
       "      <td>9959</td>\n",
       "      <td>10</td>\n",
       "    </tr>\n",
       "    <tr>\n",
       "      <th>7</th>\n",
       "      <td>michael crotty</td>\n",
       "      <td>1</td>\n",
       "      <td>Cryptography</td>\n",
       "      <td>3930</td>\n",
       "      <td>200</td>\n",
       "    </tr>\n",
       "    <tr>\n",
       "      <th>8</th>\n",
       "      <td>brhane giday and prince niyonshuti n.</td>\n",
       "      <td>1</td>\n",
       "      <td>Web Exploitation</td>\n",
       "      <td>8151</td>\n",
       "      <td>50</td>\n",
       "    </tr>\n",
       "    <tr>\n",
       "      <th>9</th>\n",
       "      <td>taylor mccampbell</td>\n",
       "      <td>1</td>\n",
       "      <td>General Skills</td>\n",
       "      <td>3334</td>\n",
       "      <td>100</td>\n",
       "    </tr>\n",
       "  </tbody>\n",
       "</table>\n",
       "</div>"
      ]
     },
     "execution_count": 64,
     "metadata": {},
     "output_type": "execute_result"
    }
   ],
   "execution_count": 64
  },
  {
   "metadata": {},
   "cell_type": "code",
   "outputs": [],
   "execution_count": null,
   "source": "# ## Now My model will be predicting the possible number of users who can solve a given problem given (author of the question, difficulty, category and also the points of the question.",
   "id": "cab3aceee663818c"
  },
  {
   "metadata": {
    "ExecuteTime": {
     "end_time": "2025-03-30T08:35:00.207962Z",
     "start_time": "2025-03-30T08:35:00.198202Z"
    }
   },
   "cell_type": "code",
   "source": [
    "## Feature engineering.\n",
    "\n",
    "# One Frequency encoding on the author as they are many 114 unique values in 414 values.\n",
    "author_freq = data.author.value_counts(normalize=True)\n",
    "data['author_encoded'] = data.author.map(author_freq)\n"
   ],
   "id": "37ad0fde50f20542",
   "outputs": [],
   "execution_count": 66
  },
  {
   "metadata": {
    "ExecuteTime": {
     "end_time": "2025-03-30T08:35:06.344485Z",
     "start_time": "2025-03-30T08:35:06.326125Z"
    }
   },
   "cell_type": "code",
   "source": "data.head()",
   "id": "29cc7858c6fc7d03",
   "outputs": [
    {
     "data": {
      "text/plain": [
       "                   author  difficulty             category  users_solved  \\\n",
       "0                   venax           1     Web Exploitation          5884   \n",
       "1            darkraicg492           1  Binary Exploitation          3196   \n",
       "2    prince niyonshuti n.           1     Web Exploitation          4340   \n",
       "3    prince niyonshuti n.           1     Web Exploitation          5631   \n",
       "4  nana ama atombo-sackey           1         Cryptography          7210   \n",
       "\n",
       "   event_points  author_encoded  \n",
       "0           100        0.019324  \n",
       "1            75        0.004831  \n",
       "2           100        0.007246  \n",
       "3            50        0.007246  \n",
       "4           100        0.009662  "
      ],
      "text/html": [
       "<div>\n",
       "<style scoped>\n",
       "    .dataframe tbody tr th:only-of-type {\n",
       "        vertical-align: middle;\n",
       "    }\n",
       "\n",
       "    .dataframe tbody tr th {\n",
       "        vertical-align: top;\n",
       "    }\n",
       "\n",
       "    .dataframe thead th {\n",
       "        text-align: right;\n",
       "    }\n",
       "</style>\n",
       "<table border=\"1\" class=\"dataframe\">\n",
       "  <thead>\n",
       "    <tr style=\"text-align: right;\">\n",
       "      <th></th>\n",
       "      <th>author</th>\n",
       "      <th>difficulty</th>\n",
       "      <th>category</th>\n",
       "      <th>users_solved</th>\n",
       "      <th>event_points</th>\n",
       "      <th>author_encoded</th>\n",
       "    </tr>\n",
       "  </thead>\n",
       "  <tbody>\n",
       "    <tr>\n",
       "      <th>0</th>\n",
       "      <td>venax</td>\n",
       "      <td>1</td>\n",
       "      <td>Web Exploitation</td>\n",
       "      <td>5884</td>\n",
       "      <td>100</td>\n",
       "      <td>0.019324</td>\n",
       "    </tr>\n",
       "    <tr>\n",
       "      <th>1</th>\n",
       "      <td>darkraicg492</td>\n",
       "      <td>1</td>\n",
       "      <td>Binary Exploitation</td>\n",
       "      <td>3196</td>\n",
       "      <td>75</td>\n",
       "      <td>0.004831</td>\n",
       "    </tr>\n",
       "    <tr>\n",
       "      <th>2</th>\n",
       "      <td>prince niyonshuti n.</td>\n",
       "      <td>1</td>\n",
       "      <td>Web Exploitation</td>\n",
       "      <td>4340</td>\n",
       "      <td>100</td>\n",
       "      <td>0.007246</td>\n",
       "    </tr>\n",
       "    <tr>\n",
       "      <th>3</th>\n",
       "      <td>prince niyonshuti n.</td>\n",
       "      <td>1</td>\n",
       "      <td>Web Exploitation</td>\n",
       "      <td>5631</td>\n",
       "      <td>50</td>\n",
       "      <td>0.007246</td>\n",
       "    </tr>\n",
       "    <tr>\n",
       "      <th>4</th>\n",
       "      <td>nana ama atombo-sackey</td>\n",
       "      <td>1</td>\n",
       "      <td>Cryptography</td>\n",
       "      <td>7210</td>\n",
       "      <td>100</td>\n",
       "      <td>0.009662</td>\n",
       "    </tr>\n",
       "  </tbody>\n",
       "</table>\n",
       "</div>"
      ]
     },
     "execution_count": 67,
     "metadata": {},
     "output_type": "execute_result"
    }
   ],
   "execution_count": 67
  },
  {
   "metadata": {
    "ExecuteTime": {
     "end_time": "2025-03-30T11:02:33.658229Z",
     "start_time": "2025-03-30T11:02:33.649234Z"
    }
   },
   "cell_type": "code",
   "source": [
    "## Filtering all authors who have less than one occurrence\n",
    "column_name = \"author\"\n",
    "data_filtered = data[data.groupby(column_name)[column_name].transform('size') >= 2]"
   ],
   "id": "171cab9afbbe9e37",
   "outputs": [],
   "execution_count": 77
  },
  {
   "metadata": {
    "ExecuteTime": {
     "end_time": "2025-03-30T11:03:34.812067Z",
     "start_time": "2025-03-30T11:03:34.803222Z"
    }
   },
   "cell_type": "code",
   "source": "data_filtered.shape",
   "id": "3cd385202572e6b7",
   "outputs": [
    {
     "data": {
      "text/plain": [
       "(362, 6)"
      ]
     },
     "execution_count": 81,
     "metadata": {},
     "output_type": "execute_result"
    }
   ],
   "execution_count": 81
  },
  {
   "metadata": {
    "ExecuteTime": {
     "end_time": "2025-03-30T11:05:55.721390Z",
     "start_time": "2025-03-30T11:05:55.710526Z"
    }
   },
   "cell_type": "code",
   "source": "data_filtered.to_csv(\"data_filtered.csv\")",
   "id": "af6ebdb2eb577c9c",
   "outputs": [],
   "execution_count": 83
  },
  {
   "metadata": {
    "ExecuteTime": {
     "end_time": "2025-03-30T11:06:48.370182Z",
     "start_time": "2025-03-30T11:06:48.360973Z"
    }
   },
   "cell_type": "code",
   "source": [
    "## Feature Understanding\n",
    "data_filtered.columns"
   ],
   "id": "cc9aafe7c912909c",
   "outputs": [
    {
     "data": {
      "text/plain": [
       "Index(['author', 'difficulty', 'category', 'users_solved', 'event_points',\n",
       "       'author_encoded'],\n",
       "      dtype='object')"
      ]
     },
     "execution_count": 84,
     "metadata": {},
     "output_type": "execute_result"
    }
   ],
   "execution_count": 84
  },
  {
   "metadata": {},
   "cell_type": "code",
   "outputs": [],
   "execution_count": null,
   "source": [
    "## Feature Understanding\n",
    "'''\n",
    "1. Author is the name of someone who setted up the question.\n",
    "2. Difficulty is the challenge difficulty now it's either 1, 2 or 3 easy, medium or hard.\n",
    "3. Category is the can be General Skills, Binary Exploitation, Web Exploitation, Forensics, Cryptography and Reverse Engineering\n",
    "4. users_solved is the number of  past users who solved the challenge.\n",
    "5. event_points is the score assigned to the challenge when one solves it\n",
    "\n",
    "and what I want is this\n",
    "given the author, Difficulty , category and points of the challenge, we predict the number of users who will solve it.\n",
    "'''"
   ],
   "id": "91490ef41f802843"
  }
 ],
 "metadata": {
  "kernelspec": {
   "display_name": "Python 3",
   "language": "python",
   "name": "python3"
  },
  "language_info": {
   "codemirror_mode": {
    "name": "ipython",
    "version": 2
   },
   "file_extension": ".py",
   "mimetype": "text/x-python",
   "name": "python",
   "nbconvert_exporter": "python",
   "pygments_lexer": "ipython2",
   "version": "2.7.6"
  }
 },
 "nbformat": 4,
 "nbformat_minor": 5
}
